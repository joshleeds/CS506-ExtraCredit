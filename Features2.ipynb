{
 "cells": [
  {
   "cell_type": "code",
   "execution_count": 1,
   "metadata": {},
   "outputs": [],
   "source": [
    "import pandas as pd\n",
    "import numpy as np\n",
    "import matplotlib.pyplot as plt\n",
    "import seaborn as sns\n",
    "from sklearn.model_selection import train_test_split\n",
    "from sklearn.ensemble import RandomForestClassifier\n",
    "from sklearn.metrics import accuracy_score, classification_report\n",
    "from sklearn.preprocessing import LabelEncoder\n",
    "from sklearn.metrics import precision_recall_curve\n",
    "\n"
   ]
  },
  {
   "cell_type": "code",
   "execution_count": 2,
   "metadata": {},
   "outputs": [],
   "source": [
    "df = pd.read_csv('train.csv')"
   ]
  },
  {
   "cell_type": "code",
   "execution_count": 3,
   "metadata": {},
   "outputs": [],
   "source": [
    "df.sort_values(by='unix_time', inplace=True)\n",
    "df_by_cc = df.groupby('cc_num')\n",
    "\n",
    "df['avg_amt_sig'] = df_by_cc['amt'].transform(lambda x: abs((x - x.mean()) / x.std()) > 1.96)\n",
    "\n",
    "df['prev_category_same'] = df_by_cc['category'].shift(-1) == df['category']\n",
    "df['next_category_same'] = df_by_cc['category'].shift(1) == df['category']\n",
    "df['both_category_different'] = df['prev_category_same'] | df['next_category_same']\n",
    "\n",
    "# Averege time of the transaction per cc and category\n",
    "# Likely hood of being in a cluster\n",
    "df['avg_time'] = df.groupby(['cc_num', 'category'])['unix_time'].transform('mean')\n",
    "df['cat_time_diff'] = df['unix_time'] - df['avg_time'] \n",
    "\n",
    "# Average time of the transaction per cc\n",
    "df['avg_time_cc'] = df.groupby('cc_num')['unix_time'].diff().mean()\n",
    "df['time_between_last_transaction'] = df['unix_time'] - df['unix_time'].shift(1)\n",
    "df['time_between_last_transaction'].fillna(0, inplace=True)\n",
    "df['diff_time'] = df['avg_time_cc'] - df['time_between_last_transaction']\n",
    "\n",
    "df['Age'] = 2024 - df['dob'].str.split('-').str[0].astype(int)\n",
    "df['Hour'] = pd.to_timedelta(df['trans_time']).dt.total_seconds() / 3600\n",
    "df['night_flag'] = ((df['Hour'] >= 22) | (df['Hour'] < 4)).astype(int)\n",
    "\n",
    "\n",
    "\n",
    "df['log_amt'] = np.log1p(df['amt'])\n",
    "# df['v1'] = df['amt'] * df['cat_time_diff'] * df['diff_time']\n",
    "# df['v2'] = df['amt'] * df['diff_time']\n",
    "# df['v3'] = df['cat_time_diff'] * df['diff_time']"
   ]
  },
  {
   "cell_type": "code",
   "execution_count": 4,
   "metadata": {},
   "outputs": [
    {
     "data": {
      "text/plain": [
       "0.12880171983288877"
      ]
     },
     "execution_count": 4,
     "metadata": {},
     "output_type": "execute_result"
    }
   ],
   "source": [
    "val = df['is_fraud'].value_counts()\n",
    "val[1]/val[0]"
   ]
  },
  {
   "cell_type": "code",
   "execution_count": 5,
   "metadata": {},
   "outputs": [],
   "source": [
    "target_column = 'is_fraud'\n",
    "\n",
    "X = df.drop(columns=[target_column, 'id', 'zip', 'avg_time_cc', 'state', 'long', 'lat', 'merch_lat', 'merch_long', 'first', 'last', 'street', 'city', 'dob', 'merchant', 'job', 'trans_num','amt'])\n",
    "y = df[target_column]\n",
    "\n",
    "non_numeric_cols = X.select_dtypes(include=['object']).columns\n",
    "\n",
    "# Apply Label Encoding for each non-numeric column\n",
    "le = LabelEncoder()\n",
    "for col in non_numeric_cols:\n",
    "    X[col] = le.fit_transform(X[col].astype(str))"
   ]
  },
  {
   "cell_type": "code",
   "execution_count": 6,
   "metadata": {},
   "outputs": [
    {
     "name": "stdout",
     "output_type": "stream",
     "text": [
      "Accuracy: 0.9913003601246274\n",
      "Classification Report:\n",
      "              precision    recall  f1-score   support\n",
      "\n",
      "           0       0.99      1.00      1.00     65702\n",
      "           1       0.97      0.96      0.96      8439\n",
      "\n",
      "    accuracy                           0.99     74141\n",
      "   macro avg       0.98      0.98      0.98     74141\n",
      "weighted avg       0.99      0.99      0.99     74141\n",
      "\n",
      "                          Feature  Importance\n",
      "18                        log_amt    0.343102\n",
      "17                     night_flag    0.150024\n",
      "10        both_category_different    0.055221\n",
      "1                      trans_time    0.053906\n",
      "16                           Hour    0.053172\n",
      "12                  cat_time_diff    0.052400\n",
      "7                     avg_amt_sig    0.043200\n",
      "2                       unix_time    0.040897\n",
      "8              prev_category_same    0.036419\n",
      "0                      trans_date    0.034955\n",
      "3                        category    0.028529\n",
      "9              next_category_same    0.024372\n",
      "11                       avg_time    0.024117\n",
      "15                            Age    0.018654\n",
      "13  time_between_last_transaction    0.013514\n",
      "14                      diff_time    0.011036\n",
      "5                          gender    0.006123\n",
      "6                        city_pop    0.005390\n",
      "4                          cc_num    0.004970\n"
     ]
    }
   ],
   "source": [
    "X_train, X_test, y_train, y_test = train_test_split(X, y, test_size=0.2, random_state=42)\n",
    "\n",
    "rf_model = RandomForestClassifier(\n",
    "    n_estimators=100,\n",
    "    class_weight='balanced',  # Handles class imbalance\n",
    "    max_depth=20,    \n",
    "    random_state=42\n",
    ")\n",
    "rf_model.fit(X_train, y_train)\n",
    "\n",
    "# 5. Evaluate the Model\n",
    "y_pred = rf_model.predict(X_test)\n",
    "accuracy = accuracy_score(y_test, y_pred)\n",
    "print(\"Accuracy:\", accuracy)\n",
    "print(\"Classification Report:\")\n",
    "print(classification_report(y_test, y_pred))\n",
    "\n",
    "# Optional: Feature Importance\n",
    "importances = rf_model.feature_importances_\n",
    "feature_importance_df = pd.DataFrame({'Feature': X.columns, 'Importance': importances})\n",
    "print(feature_importance_df.sort_values(by='Importance', ascending=False))"
   ]
  },
  {
   "cell_type": "code",
   "execution_count": 6,
   "metadata": {},
   "outputs": [
    {
     "name": "stdout",
     "output_type": "stream",
     "text": [
      "Accuracy with XGBoost: 0.9962\n",
      "Classification Report with XGBoost:\n",
      "              precision    recall  f1-score   support\n",
      "\n",
      "           0       1.00      1.00      1.00     65702\n",
      "           1       0.99      0.98      0.98      8439\n",
      "\n",
      "    accuracy                           1.00     74141\n",
      "   macro avg       0.99      0.99      0.99     74141\n",
      "weighted avg       1.00      1.00      1.00     74141\n",
      "\n"
     ]
    }
   ],
   "source": [
    "from xgboost import XGBClassifier\n",
    "X_train, X_test, y_train, y_test = train_test_split(X, y, test_size=0.2, random_state=42)\n",
    "# Calculate scale_pos_weight\n",
    "class_0_count, class_1_count = np.bincount(y_train)\n",
    "scale_pos_weight = class_0_count / class_1_count\n",
    "\n",
    "# Initialize XGBClassifier with class imbalance handling\n",
    "xgb_model = XGBClassifier(\n",
    "    n_estimators=300,\n",
    "    eval_metric = 'logloss',\n",
    "    random_state=42\n",
    ")\n",
    "\n",
    "# Train the model\n",
    "xgb_model.fit(X_train, y_train)\n",
    "\n",
    "\n",
    "# Predict and evaluate\n",
    "y_pred_xgb = xgb_model.predict(X_test)\n",
    "\n",
    "accuracy = accuracy_score(y_test, y_pred_xgb)\n",
    "print(f\"Accuracy with XGBoost: {accuracy:.4f}\")\n",
    "\n",
    "from sklearn.metrics import classification_report\n",
    "print(\"Classification Report with XGBoost:\")\n",
    "print(classification_report(y_test, y_pred_xgb))"
   ]
  },
  {
   "cell_type": "code",
   "execution_count": 7,
   "metadata": {},
   "outputs": [],
   "source": [
    "features = X_train.columns\n",
    "plot = xgb_model.feature_importances_"
   ]
  },
  {
   "cell_type": "code",
   "execution_count": 9,
   "metadata": {},
   "outputs": [
    {
     "name": "stdout",
     "output_type": "stream",
     "text": [
      "Optimal Threshold: 0.46086079039580163\n",
      "Classification Report with Balanced Threshold:\n",
      "              precision    recall  f1-score   support\n",
      "\n",
      "           0       1.00      1.00      1.00     65702\n",
      "           1       0.96      0.96      0.96      8439\n",
      "\n",
      "    accuracy                           0.99     74141\n",
      "   macro avg       0.98      0.98      0.98     74141\n",
      "weighted avg       0.99      0.99      0.99     74141\n",
      "\n"
     ]
    }
   ],
   "source": [
    "y_probs = rf_model.predict_proba(X_test)[:, 1]\n",
    "\n",
    "\n",
    "# Calculate precision, recall, and thresholds\n",
    "precision, recall, thresholds = precision_recall_curve(y_test, y_probs)\n",
    "\n",
    "# Find the threshold where precision and recall are balanced\n",
    "f1_scores = 2 * (precision * recall) / (precision + recall)\n",
    "optimal_idx = np.argmax(f1_scores)  # Index of best F1-score\n",
    "optimal_threshold = thresholds[optimal_idx]\n",
    "\n",
    "print(\"Optimal Threshold:\", optimal_threshold)\n",
    "\n",
    "# Apply adjusted threshold\n",
    "y_pred_adjusted = (y_probs >= optimal_threshold).astype(int)\n",
    "\n",
    "# Evaluate\n",
    "print(\"Classification Report with Balanced Threshold:\")\n",
    "print(classification_report(y_test, y_pred_adjusted))"
   ]
  },
  {
   "cell_type": "code",
   "execution_count": 8,
   "metadata": {},
   "outputs": [],
   "source": [
    "final_train = pd.read_csv('train.csv')\n",
    "final_test = pd.read_csv('test.csv')\n",
    "final_df = pd.concat([final_train, final_test], axis=0)"
   ]
  },
  {
   "cell_type": "code",
   "execution_count": 9,
   "metadata": {},
   "outputs": [],
   "source": [
    "final_df.sort_values(by='unix_time', inplace=True)\n",
    "final_df_by_cc = final_df.groupby('cc_num')\n",
    "\n",
    "final_df['avg_amt_sig'] = final_df_by_cc['amt'].transform(lambda x: abs((x - x.mean()) / x.std()) > 1.96)\n",
    "\n",
    "final_df['prev_category_same'] = final_df_by_cc['category'].shift(-1) == final_df['category']\n",
    "final_df['next_category_same'] = final_df_by_cc['category'].shift(1) == final_df['category']\n",
    "final_df['both_category_different'] = final_df['prev_category_same'] | final_df['next_category_same']\n",
    "\n",
    "# Averege time of the transaction per cc and category\n",
    "# Likely hood of being in a cluster\n",
    "final_df['avg_time'] = final_df.groupby(['cc_num', 'category'])['unix_time'].transform('mean')\n",
    "final_df['cat_time_diff'] = final_df['unix_time'] - final_df['avg_time'] \n",
    "\n",
    "# Average time of the transaction per cc\n",
    "final_df['avg_time_cc'] = final_df.groupby('cc_num')['unix_time'].diff().mean()\n",
    "final_df['time_between_last_transaction'] = final_df['unix_time'] - final_df['unix_time'].shift(1)\n",
    "final_df['time_between_last_transaction'].fillna(0, inplace=True)\n",
    "final_df['diff_time'] = final_df['avg_time_cc'] - final_df['time_between_last_transaction']\n",
    "\n",
    "final_df['Age'] = 2024 - final_df['dob'].str.split('-').str[0].astype(int)\n",
    "\n",
    "final_df['Hour'] = pd.to_timedelta(final_df['trans_time']).dt.total_seconds() / 3600\n",
    "final_df['night_flag'] = ((final_df['Hour'] >= 22) | (final_df['Hour'] < 4)).astype(int)\n",
    "\n",
    "final_df['log_amt'] = np.log1p(final_df['amt'])\n",
    "# final_df['v1'] = final_df['amt'] * final_df['cat_time_diff'] * final_df['diff_time']\n",
    "# final_df['v2'] = final_df['amt'] * final_df['diff_time']\n",
    "# final_df['v3'] = final_df['cat_time_diff'] * final_df['diff_time']"
   ]
  },
  {
   "cell_type": "code",
   "execution_count": 11,
   "metadata": {},
   "outputs": [],
   "source": [
    "final = final_df[final_df['id'].isin(final_test['id'])]\n",
    "\n",
    "X_final = final.drop(columns=[target_column, 'id', 'zip', 'avg_time_cc', 'state', 'long', 'lat', 'merch_lat', 'merch_long', 'first', 'last', 'street', 'city', 'dob', 'merchant', 'job', 'trans_num','amt'])\n",
    "\n",
    "non_numeric_cols = X_final.select_dtypes(include=['object']).columns\n",
    "\n",
    "# Apply Label Encoding for each non-numeric column\n",
    "le = LabelEncoder()\n",
    "for col in non_numeric_cols:\n",
    "    X_final[col] = le.fit_transform(X_final[col].astype(str))\n",
    "\n",
    "# y_final_prob = rf_model.predict_proba(X_final)[:, 1]\n",
    "# y_final = (y_final_prob >= optimal_threshold).astype(int)\n",
    "\n",
    "y_final_xgb = xgb_model.predict(X_final)\n"
   ]
  },
  {
   "cell_type": "code",
   "execution_count": 12,
   "metadata": {},
   "outputs": [],
   "source": [
    "output_df = pd.DataFrame({\n",
    "    'id': final['id'],\n",
    "    'is_fraud': y_final_xgb\n",
    "})\n",
    "\n",
    "# Writing to a CSV file\n",
    "output_df.to_csv('sample_submission.csv', index=False)"
   ]
  },
  {
   "cell_type": "code",
   "execution_count": 13,
   "metadata": {},
   "outputs": [
    {
     "data": {
      "text/plain": [
       "0    81492\n",
       "1    11184\n",
       "Name: is_fraud, dtype: int64"
      ]
     },
     "execution_count": 13,
     "metadata": {},
     "output_type": "execute_result"
    }
   ],
   "source": [
    "var2 = output_df['is_fraud'].value_counts()\n",
    "var2"
   ]
  },
  {
   "cell_type": "code",
   "execution_count": 14,
   "metadata": {},
   "outputs": [
    {
     "data": {
      "text/plain": [
       "0.13724046532174938"
      ]
     },
     "execution_count": 14,
     "metadata": {},
     "output_type": "execute_result"
    }
   ],
   "source": [
    "var2[1]/var2[0]\n"
   ]
  }
 ],
 "metadata": {
  "kernelspec": {
   "display_name": "base",
   "language": "python",
   "name": "python3"
  },
  "language_info": {
   "codemirror_mode": {
    "name": "ipython",
    "version": 3
   },
   "file_extension": ".py",
   "mimetype": "text/x-python",
   "name": "python",
   "nbconvert_exporter": "python",
   "pygments_lexer": "ipython3",
   "version": "3.9.12"
  }
 },
 "nbformat": 4,
 "nbformat_minor": 2
}
